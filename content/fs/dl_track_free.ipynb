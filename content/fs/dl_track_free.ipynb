{
 "cells": [
  {
   "cell_type": "markdown",
   "id": "f4514ac9-aba8-4e86-b86a-7c6ac4c04e19",
   "metadata": {},
   "source": [
    "(fs:dl_track_free)=\n",
    "# Disk Layout:Tracking Free Space"
   ]
  },
  {
   "cell_type": "markdown",
   "id": "954b1bdc-f2fd-4d5f-a40f-5f83dcadc065",
   "metadata": {},
   "source": [
    "So, we know how to keep track of blocks used in a file, how do we represent blocks that are free?  \n",
    "\n",
    "If you recall the approach used in [FAT file system](fs:dl_track_used:ll) to represent used blocks, the same data structure was also used to represent used blocks.  When allocating a block the file system needed to search through the linked list until it found an entry marked as free; an extremely inefficient approach.\n",
    "\n",
    "\n",
    "```{figure} ../images/fs/free_linkedlist.png\n",
    "---\n",
    "width: 80% \n",
    "name: fs:free:ll\n",
    "---\n",
    "Free list as a linked list of blocks\n",
    "```\n",
    "The original Unix file system used a free list to store a list of unused blocks (see {numref}`fs:fs:free:ll`);  blocks were allocated from the head of this list for new files, and returned to the head when freed. Implementing this results in a large initialization cost; if you have a 1TB drive, it means you will start off by having 4M 4KB blocks to hold the free list to start off with. However, it compresses to a small number of blocks for the free list when the disk becomes full.  \n",
    "\n",
    "The bigger disadvantage of this approach is that, as files were created and deleted this list became randomized, so that blocks allocated for a file are rarely sequential and disk seeks were needed for nearly every block read from or written to disk. Originally this wasn't a significant problem, because early Unix systems ran on machines with fast disks and excruciatingly slow CPUs.  \n",
    "\n",
    "\n",
    "```{figure} ../images/fs/free_bitvector.png\n",
    "---\n",
    "width: 80% \n",
    "name: fs:free:bv\n",
    "---\n",
    "Free blocks recorded as bits\n",
    "```\n",
    "\n",
    "As computers got faster and users started noticing that seek times were killing performance, file systems started using an *allocation bitmap* as shown in {numref}`fs:free:bv`. It\n",
    "keeeps a boolean array with one bit for each disk block; if the block is\n",
    "allocated the corresponding bit is set to '1', and cleared to '0' if it\n",
    "is freed. To allocate a block you read a portion of this bitmap into\n",
    "memory and scan for a '0' bit, changing it to '1' and writing it back.\n",
    "When you extend a file you begin the search at the bit corresponding to\n",
    "the last block in the file; in this way if a sequential block is\n",
    "available it will be allocated. This method results in files being\n",
    "allocated in a mostly sequential fashion, reducing disk seeks and\n",
    "greatly improving performance. Note, when disk is fragmented, each block may have just a few bits available, so this approach becomes expensive to find a block.  However, since a single page of 4096 bytes can represent 132MB ($4096*8*4096), you can efficiently cache these blocks in memory. "
   ]
  }
 ],
 "metadata": {
  "kernelspec": {
   "display_name": "Python 3 (ipykernel)",
   "language": "python",
   "name": "python3"
  },
  "language_info": {
   "codemirror_mode": {
    "name": "ipython",
    "version": 3
   },
   "file_extension": ".py",
   "mimetype": "text/x-python",
   "name": "python",
   "nbconvert_exporter": "python",
   "pygments_lexer": "ipython3",
   "version": "3.10.5"
  }
 },
 "nbformat": 4,
 "nbformat_minor": 5
}
